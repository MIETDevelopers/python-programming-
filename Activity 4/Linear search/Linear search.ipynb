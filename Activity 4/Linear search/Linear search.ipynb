{
 "cells": [
  {
   "cell_type": "code",
   "execution_count": 1,
   "id": "7ec37e47",
   "metadata": {},
   "outputs": [
    {
     "name": "stdout",
     "output_type": "stream",
     "text": [
      "Element found at index:  3\n"
     ]
    }
   ],
   "source": [
    "def LinearSearch(array, n, k):\n",
    "\n",
    "    for j in range(0, n):\n",
    "\n",
    "        if (array[j] == k):\n",
    "\n",
    "            return j\n",
    "\n",
    "    return -1\n",
    "\n",
    " \n",
    "array = [1, 3, 5, 7, 9]\n",
    "\n",
    "k = 7\n",
    "n = len(array)\n",
    "\n",
    "result = LinearSearch(array, n, k)\n",
    "\n",
    "if(result == -1):\n",
    "\n",
    "    print(\"Element not found\")\n",
    "\n",
    "else:\n",
    "\n",
    "    print(\"Element found at index: \", result)"
   ]
  },
  {
   "cell_type": "code",
   "execution_count": null,
   "id": "1f877163",
   "metadata": {},
   "outputs": [],
   "source": []
  }
 ],
 "metadata": {
  "kernelspec": {
   "display_name": "Python 3 (ipykernel)",
   "language": "python",
   "name": "python3"
  },
  "language_info": {
   "codemirror_mode": {
    "name": "ipython",
    "version": 3
   },
   "file_extension": ".py",
   "mimetype": "text/x-python",
   "name": "python",
   "nbconvert_exporter": "python",
   "pygments_lexer": "ipython3",
   "version": "3.9.12"
  }
 },
 "nbformat": 4,
 "nbformat_minor": 5
}
