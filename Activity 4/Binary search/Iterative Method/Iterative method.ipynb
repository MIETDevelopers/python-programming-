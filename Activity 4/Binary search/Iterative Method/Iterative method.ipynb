{
 "cells": [
  {
   "cell_type": "code",
   "execution_count": null,
   "id": "b0c1f47a",
   "metadata": {},
   "outputs": [],
   "source": [
    "def binarySearch(arr, k, low, high):\n",
    "   \n",
    "    while low <= high:\n",
    "        mid = low + (high - low)//2\n",
    "        if arr[mid] == k:\n",
    "            return mid\n",
    "        elif arr[mid] < k:\n",
    "\n",
    "            low = mid + 1\n",
    "        else:\n",
    "\n",
    "            high = mid - 1\n",
    "    return -1\n",
    "\n",
    "arr = [1, 3, 5, 7, 9]\n",
    "\n",
    "k = 5\n",
    "result = binarySearch(arr, k, 0, len(arr)-1)\n",
    "\n",
    "if result != -1:\n",
    "\n",
    "    print(\"Element is present at index \" + str(result))\n",
    "\n",
    "else:\n",
    "\n",
    "    print(\"Not found\")"
   ]
  }
 ],
 "metadata": {
  "kernelspec": {
   "display_name": "Python 3 (ipykernel)",
   "language": "python",
   "name": "python3"
  },
  "language_info": {
   "codemirror_mode": {
    "name": "ipython",
    "version": 3
   },
   "file_extension": ".py",
   "mimetype": "text/x-python",
   "name": "python",
   "nbconvert_exporter": "python",
   "pygments_lexer": "ipython3",
   "version": "3.9.12"
  }
 },
 "nbformat": 4,
 "nbformat_minor": 5
}
