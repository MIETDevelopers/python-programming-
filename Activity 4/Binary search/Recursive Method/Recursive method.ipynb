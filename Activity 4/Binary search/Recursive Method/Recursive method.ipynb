{
 "cells": [
  {
   "cell_type": "code",
   "execution_count": null,
   "id": "7d42aafe",
   "metadata": {},
   "outputs": [],
   "source": [
    "def BinarySearch(arr, k, low, high):\n",
    "\n",
    "    if high >= low:\n",
    "\n",
    "        mid = low + (high - low)//2\n",
    "\n",
    "        if arr[mid] == k:\n",
    "            return mid\n",
    "\n",
    "        elif arr[mid] > k:\n",
    "            return BinarySearch(arr, k, low, mid-1)\n",
    "\n",
    "        else:\n",
    "            return BinarySearch(arr, k, mid + 1, high)\n",
    "\n",
    "    else:\n",
    "        return -1\n",
    "\n",
    "\n",
    "arr = [1, 3, 5, 7, 9]\n",
    "k = 5\n",
    "\n",
    "result = BinarySearch(arr, k, 0, len(arr)-1)\n",
    "\n",
    "if result != -1:\n",
    "    print(\"Element is present at index \" + str(result))\n",
    "else:\n",
    "    print(\"Not found\")"
   ]
  }
 ],
 "metadata": {
  "kernelspec": {
   "display_name": "Python 3 (ipykernel)",
   "language": "python",
   "name": "python3"
  },
  "language_info": {
   "codemirror_mode": {
    "name": "ipython",
    "version": 3
   },
   "file_extension": ".py",
   "mimetype": "text/x-python",
   "name": "python",
   "nbconvert_exporter": "python",
   "pygments_lexer": "ipython3",
   "version": "3.9.12"
  }
 },
 "nbformat": 4,
 "nbformat_minor": 5
}
